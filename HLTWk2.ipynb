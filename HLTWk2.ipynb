{
 "cells": [
  {
   "cell_type": "code",
   "execution_count": 72,
   "metadata": {},
   "outputs": [
    {
     "name": "stdout",
     "output_type": "stream",
     "text": [
      "£ 2000 , year: 2021\n",
      "£ 1800.0 , year: 2022\n",
      "£ 1620.0 , year: 2023\n",
      "£ 1458.0 , year: 2024\n",
      "£ 1312.2 , year: 2025\n",
      "£ 1180.98 , year: 2026\n",
      "£ 1062.882 , year: 2027\n"
     ]
    }
   ],
   "source": [
    "#task 2\n",
    "\n",
    "bike = 2000\n",
    "year = 2021\n",
    "\n",
    "def function_2(bike, year):\n",
    "    while True:\n",
    "        print(\"£\",bike, \", year:\", year)\n",
    "        bike = bike *0.9\n",
    "        year = year + 1 \n",
    "        if bike <1000 :\n",
    "         break\n",
    "\n",
    "function_2(bike , year)"
   ]
  },
  {
   "cell_type": "code",
   "execution_count": 62,
   "metadata": {},
   "outputs": [
    {
     "name": "stdout",
     "output_type": "stream",
     "text": [
      "64\n"
     ]
    }
   ],
   "source": [
    "## Task 3 \n",
    "pick_number = int(input(\"Pick a number ? \"))\n",
    "pick_operator = input(\"Pick one of the operators +, -, *. /, % \")\n",
    "pick_number2 = int(input (\"Pick another number ? \"))\n",
    "\n",
    "\n",
    "def formula():\n",
    "    if pick_operator == \"+\":\n",
    "        print  (pick_number + pick_number2)\n",
    "    elif pick_operator == \"-\":\n",
    "        print (pick_number - pick_number2)\n",
    "    elif pick_operator == \"*\":\n",
    "        print (pick_number * pick_number2)\n",
    "    elif pick_operator == \"/\":\n",
    "        print (pick_number / pick_number2)\n",
    "    elif pick_operator == \"%\":\n",
    "        print (pick_number % pick_number2)\n",
    "    \n",
    "\n",
    "formula()\n",
    "\n"
   ]
  }
 ],
 "metadata": {
  "interpreter": {
   "hash": "48acd3ee43495071949d4f831344962e5553976e7917bdd10bfe3c7d57e1189c"
  },
  "kernelspec": {
   "display_name": "Python 3.10.0 64-bit",
   "language": "python",
   "name": "python3"
  },
  "language_info": {
   "codemirror_mode": {
    "name": "ipython",
    "version": 3
   },
   "file_extension": ".py",
   "mimetype": "text/x-python",
   "name": "python",
   "nbconvert_exporter": "python",
   "pygments_lexer": "ipython3",
   "version": "3.10.0"
  },
  "orig_nbformat": 4
 },
 "nbformat": 4,
 "nbformat_minor": 2
}
