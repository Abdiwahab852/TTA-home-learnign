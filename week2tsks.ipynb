{
 "cells": [
  {
   "cell_type": "code",
   "execution_count": 11,
   "metadata": {},
   "outputs": [
    {
     "name": "stdout",
     "output_type": "stream",
     "text": [
      "Hello, Abdi guess the number I am thinking of between 1-10\n",
      "correct\n"
     ]
    }
   ],
   "source": [
    "#Task 1\n",
    "import random\n",
    "\n",
    "name = input(\"what is your name? \")\n",
    "\n",
    "random.randint(1,10)\n",
    "\n",
    "print (\"Hello, \" + name, \"guess the number I am thinking of between 1-10\")\n",
    "\n",
    "guess = int(input(\"Take a guess\"))\n",
    "\n",
    "if guess == 9:\n",
    "    print(\"correct\")\n",
    "else :\n",
    "    print(\"try again\")\n",
    "\n",
    "\n"
   ]
  },
  {
   "cell_type": "code",
   "execution_count": 33,
   "metadata": {},
   "outputs": [
    {
     "ename": "SyntaxError",
     "evalue": "invalid syntax (Temp/ipykernel_5936/463278509.py, line 12)",
     "output_type": "error",
     "traceback": [
      "\u001b[1;36m  File \u001b[1;32m\"C:\\Users\\abdi-\\AppData\\Local\\Temp/ipykernel_5936/463278509.py\"\u001b[1;36m, line \u001b[1;32m12\u001b[0m\n\u001b[1;33m    print(\"What are the ten things that can always be count on? Our fingers.\"):\u001b[0m\n\u001b[1;37m                                                                              ^\u001b[0m\n\u001b[1;31mSyntaxError\u001b[0m\u001b[1;31m:\u001b[0m invalid syntax\n"
     ]
    }
   ],
   "source": [
    "#Taks 2\n",
    "\n",
    "name = input(\"What is your name? \")\n",
    "\n",
    "print(\"hi \"+ name, \"tell us your favourite number between 1 and 100? \")\n",
    "\n",
    "favourite_number = int(input(\"tell us your favourite number\" ))\n",
    "\n",
    "if favourite_number == 7:\n",
    "    print(\"How can you make 2 sevens even. Take away the s\")\n",
    "if  favourite_number== 6:\n",
    "    print(\"Why is six scared of seven? Because seven, eight, nine!\")\n",
    "if favourite_number == 10:\n",
    "    print(\"What are the ten things that can always be count on? Our fingers.\"\n",
    "\n"
   ]
  },
  {
   "cell_type": "code",
   "execution_count": 60,
   "metadata": {},
   "outputs": [
    {
     "name": "stdout",
     "output_type": "stream",
     "text": [
      "Your favorite starter is  with a glass of  with cake as the dessert\n"
     ]
    }
   ],
   "source": [
    "#task3\n",
    "starter =input(\"favorite starter\")\n",
    "drink = input(\"favourite drink\")\n",
    "dessert = input (\"favourite dessert\")\n",
    "\n",
    "print(\"Your favorite starter is\", starter +\" with a glass of\", drink + \" with cake as the dessert\")"
   ]
  },
  {
   "cell_type": "code",
   "execution_count": 61,
   "metadata": {},
   "outputs": [
    {
     "name": "stdout",
     "output_type": "stream",
     "text": [
      "not done\n",
      "not done\n",
      "not done\n",
      "not done\n",
      "not done\n"
     ]
    }
   ],
   "source": [
    "motorbike = 2000\n",
    "\n",
    "while True:\n",
    "    print(motorbike)\n",
    "    motorbike = motorbike *0.9\n",
    "    if motorbike <1000 :\n",
    "     break"
   ]
  }
 ],
 "metadata": {
  "interpreter": {
   "hash": "48acd3ee43495071949d4f831344962e5553976e7917bdd10bfe3c7d57e1189c"
  },
  "kernelspec": {
   "display_name": "Python 3.10.0 64-bit",
   "language": "python",
   "name": "python3"
  },
  "language_info": {
   "codemirror_mode": {
    "name": "ipython",
    "version": 3
   },
   "file_extension": ".py",
   "mimetype": "text/x-python",
   "name": "python",
   "nbconvert_exporter": "python",
   "pygments_lexer": "ipython3",
   "version": "3.10.0"
  },
  "orig_nbformat": 4
 },
 "nbformat": 4,
 "nbformat_minor": 2
}
