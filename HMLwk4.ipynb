{
 "cells": [
  {
   "cell_type": "code",
   "execution_count": 1,
   "metadata": {},
   "outputs": [],
   "source": [
    "import pandas as pd\n"
   ]
  },
  {
   "cell_type": "code",
   "execution_count": 38,
   "metadata": {},
   "outputs": [
    {
     "data": {
      "text/plain": [
       "(16, 5)"
      ]
     },
     "execution_count": 38,
     "metadata": {},
     "output_type": "execute_result"
    }
   ],
   "source": [
    "# Task 1 \n",
    "\n",
    "\n",
    "destination = pd.read_csv(\"destinations.csv\")\n",
    "\n",
    "destination.shape"
   ]
  },
  {
   "cell_type": "code",
   "execution_count": 7,
   "metadata": {},
   "outputs": [
    {
     "name": "stdout",
     "output_type": "stream",
     "text": [
      "London\n"
     ]
    }
   ],
   "source": [
    "#Task 2 pt 1 using iloc\n",
    "\n",
    "print(destination.iloc[3,8])"
   ]
  },
  {
   "cell_type": "code",
   "execution_count": null,
   "metadata": {},
   "outputs": [],
   "source": [
    "# Task 2 pt 2 using loc function\n",
    "\n",
    "destination = pd.read_csv(\"destinations.csv\", index_col= \"Destinations\")\n",
    "\n",
    "\n",
    "print(destination.loc[[\"Greece\", \"Great britian\", \"Portugal\", \"Italy\", \"Turkey\"\n",
    "]])"
   ]
  },
  {
   "cell_type": "code",
   "execution_count": 22,
   "metadata": {},
   "outputs": [
    {
     "data": {
      "text/plain": [
       "82.5"
      ]
     },
     "execution_count": 22,
     "metadata": {},
     "output_type": "execute_result"
    }
   ],
   "source": [
    "# Task 3\n",
    "\n",
    "destination[\"All inclusive hotels\"].mean()\n"
   ]
  },
  {
   "cell_type": "code",
   "execution_count": null,
   "metadata": {},
   "outputs": [],
   "source": [
    "# Task 4 and Task 5\n",
    "\n",
    "destination.sort_values('Score out of 10')\n",
    "\n",
    "# This shows us the lowest scoring destination and the highest scoring"
   ]
  },
  {
   "cell_type": "code",
   "execution_count": null,
   "metadata": {},
   "outputs": [],
   "source": [
    "#Task6\n",
    "\n",
    "great = destination[\"All inclusive hotels\"] > 9\n",
    "\n",
    "highsc= destination[great]\n",
    "\n",
    "highsc.head()\n"
   ]
  },
  {
   "cell_type": "code",
   "execution_count": null,
   "metadata": {},
   "outputs": [],
   "source": [
    "# Task 7\n",
    "\n",
    "filter =  destination['Score out of 10'] > 8\n",
    "\n",
    "rating = destination[filter]\n",
    "\n",
    "rating"
   ]
  },
  {
   "cell_type": "code",
   "execution_count": null,
   "metadata": {},
   "outputs": [],
   "source": [
    "# Task 8\n",
    "\n",
    "remmoval = destination['Score out of 10'] <= 2\n",
    "\n",
    "might = destination[remmoval]\n",
    "\n",
    "print('I need to know if these destinations should be removed or there is a problem')\n",
    "\n",
    "might\n",
    "\n",
    "\n",
    "\n",
    "\n"
   ]
  },
  {
   "cell_type": "code",
   "execution_count": 60,
   "metadata": {},
   "outputs": [
    {
     "data": {
      "text/html": [
       "<div>\n",
       "<style scoped>\n",
       "    .dataframe tbody tr th:only-of-type {\n",
       "        vertical-align: middle;\n",
       "    }\n",
       "\n",
       "    .dataframe tbody tr th {\n",
       "        vertical-align: top;\n",
       "    }\n",
       "\n",
       "    .dataframe thead th {\n",
       "        text-align: right;\n",
       "    }\n",
       "</style>\n",
       "<table border=\"1\" class=\"dataframe\">\n",
       "  <thead>\n",
       "    <tr style=\"text-align: right;\">\n",
       "      <th></th>\n",
       "      <th>Score out of 10</th>\n",
       "      <th>Average hotel star rating</th>\n",
       "      <th>All inclusive hotels</th>\n",
       "    </tr>\n",
       "  </thead>\n",
       "  <tbody>\n",
       "    <tr>\n",
       "      <th>Score out of 10</th>\n",
       "      <td>1.000000</td>\n",
       "      <td>0.554976</td>\n",
       "      <td>0.078350</td>\n",
       "    </tr>\n",
       "    <tr>\n",
       "      <th>Average hotel star rating</th>\n",
       "      <td>0.554976</td>\n",
       "      <td>1.000000</td>\n",
       "      <td>0.249087</td>\n",
       "    </tr>\n",
       "    <tr>\n",
       "      <th>All inclusive hotels</th>\n",
       "      <td>0.078350</td>\n",
       "      <td>0.249087</td>\n",
       "      <td>1.000000</td>\n",
       "    </tr>\n",
       "  </tbody>\n",
       "</table>\n",
       "</div>"
      ],
      "text/plain": [
       "                           Score out of 10  Average hotel star rating  \\\n",
       "Score out of 10                   1.000000                   0.554976   \n",
       "Average hotel star rating         0.554976                   1.000000   \n",
       "All inclusive hotels              0.078350                   0.249087   \n",
       "\n",
       "                           All inclusive hotels  \n",
       "Score out of 10                        0.078350  \n",
       "Average hotel star rating              0.249087  \n",
       "All inclusive hotels                   1.000000  "
      ]
     },
     "execution_count": 60,
     "metadata": {},
     "output_type": "execute_result"
    }
   ],
   "source": [
    "# Extension\n",
    "\n",
    "destination.corr(method= 'pearson')\n"
   ]
  },
  {
   "cell_type": "code",
   "execution_count": 77,
   "metadata": {},
   "outputs": [
    {
     "data": {
      "text/plain": [
       "<AxesSubplot:xlabel='Destinations'>"
      ]
     },
     "execution_count": 77,
     "metadata": {},
     "output_type": "execute_result"
    },
    {
     "data": {
      "image/png": "[encoded data removed]",
      "text/plain": [
       "<Figure size 432x288 with 1 Axes>"
      ]
     },
     "metadata": {
      "needs_background": "light"
     },
     "output_type": "display_data"
    }
   ],
   "source": [
    "# Extension part 2\n",
    "\n",
    "destination.groupby('Destinations').mean().plot.bar()"
   ]
  }
 ],
 "metadata": {
  "interpreter": {
   "hash": "48acd3ee43495071949d4f831344962e5553976e7917bdd10bfe3c7d57e1189c"
  },
  "kernelspec": {
   "display_name": "Python 3.10.0 64-bit",
   "language": "python",
   "name": "python3"
  },
  "language_info": {
   "codemirror_mode": {
    "name": "ipython",
    "version": 3
   },
   "file_extension": ".py",
   "mimetype": "text/x-python",
   "name": "python",
   "nbconvert_exporter": "python",
   "pygments_lexer": "ipython3",
   "version": "3.10.0"
  },
  "orig_nbformat": 4
 },
 "nbformat": 4,
 "nbformat_minor": 2
}
