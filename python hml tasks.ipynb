{
 "cells": [
  {
   "cell_type": "code",
   "execution_count": 69,
   "metadata": {},
   "outputs": [
    {
     "name": "stdout",
     "output_type": "stream",
     "text": [
      "83\n",
      "data stored\n"
     ]
    }
   ],
   "source": [
    "myfile = open(\"numbers45.txt\",\"w\")\n",
    "\n",
    "num= int(input(\"please enter either 3, 45, 83, 21\"))\n",
    "\n",
    "if num == 3:\n",
    "    print (num)\n",
    "    print( \"data stored\")\n",
    "    myfile= open (\"numbers45.txt\", \"w\")\n",
    "    myfile.write(str(num))\n",
    "elif num == 45:\n",
    "    print(num) \n",
    "    print (\"data stored\")\n",
    "    myfile= open (\"numbers45.txt\", \"w\")\n",
    "    myfile.write(str(num))\n",
    "elif num == 83:\n",
    "    print(num) \n",
    "    print (\"data stored\")\n",
    "    myfile= open (\"numbers45.txt\", \"w\")\n",
    "    myfile.write(str(num))\n",
    "elif num == 21:\n",
    "    print(num) \n",
    "    print (\"data stored\")\n",
    "    myfile= open (\"numbers45.txt\", \"w\")\n",
    "    myfile.write(str(num))\n",
    "else:\n",
    "        print(\"try again\")\n",
    "\n",
    "myfile.close()\n",
    "\n",
    "    \n"
   ]
  },
  {
   "cell_type": "code",
   "execution_count": 124,
   "metadata": {},
   "outputs": [
    {
     "name": "stdout",
     "output_type": "stream",
     "text": [
      "you got a grade B\n"
     ]
    }
   ],
   "source": [
    "\n",
    "\n",
    "def mark_grade() :\n",
    "\n",
    "    mark = int(input(\"what percentage did you get ? \"))\n",
    "\n",
    "    if mark >= 90 :\n",
    "        print(\"you got a grade A*\")\n",
    "    elif mark >= 70 :\n",
    "        print(\"you got a grade B\")\n",
    "    elif mark >= 50 :\n",
    "        print(\"you got a grade C\")\n",
    "    elif mark >= 40 :\n",
    "        print(\"you got a grade D\")\n",
    "    elif mark >= 30 :\n",
    "        print(\"you got a grade E\")\n",
    "    else:\n",
    "        print(\"you go a grade F\")\n",
    "    return\n",
    "\n",
    "\n",
    "\n",
    "        \n",
    "\n",
    "mark_grade()\n"
   ]
  },
  {
   "cell_type": "code",
   "execution_count": 125,
   "metadata": {},
   "outputs": [
    {
     "name": "stdout",
     "output_type": "stream",
     "text": [
      "you got a grade B\n"
     ]
    }
   ],
   "source": []
  }
 ],
 "metadata": {
  "interpreter": {
   "hash": "48acd3ee43495071949d4f831344962e5553976e7917bdd10bfe3c7d57e1189c"
  },
  "kernelspec": {
   "display_name": "Python 3.10.0 64-bit",
   "language": "python",
   "name": "python3"
  },
  "language_info": {
   "codemirror_mode": {
    "name": "ipython",
    "version": 3
   },
   "file_extension": ".py",
   "mimetype": "text/x-python",
   "name": "python",
   "nbconvert_exporter": "python",
   "pygments_lexer": "ipython3",
   "version": "3.10.0"
  },
  "orig_nbformat": 4
 },
 "nbformat": 4,
 "nbformat_minor": 2
}
